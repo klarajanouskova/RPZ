{
 "cells": [
  {
   "cell_type": "code",
   "execution_count": 5,
   "id": "initial_id",
   "metadata": {
    "ExecuteTime": {
     "end_time": "2023-11-02T18:43:24.697269Z",
     "start_time": "2023-11-02T18:43:23.452880Z"
    }
   },
   "outputs": [],
   "source": [
    "%matplotlib widget\n",
    "\n",
    "from ipywidgets import interact, interactive, fixed, interact_manual\n",
    "import ipywidgets as widgets\n",
    "\n",
    "import matplotlib.pyplot as plt\n",
    "%matplotlib inline\n",
    "\n",
    "import numpy as np\n",
    "\n",
    "\n"
   ]
  },
  {
   "cell_type": "markdown",
   "id": "c3e7643469df17ce",
   "metadata": {},
   "source": [
    "## 1D sigmoid function"
   ]
  },
  {
   "cell_type": "code",
   "execution_count": 6,
   "id": "158e05ad3060ea0a",
   "metadata": {
    "ExecuteTime": {
     "end_time": "2023-11-02T18:43:24.802815Z",
     "start_time": "2023-11-02T18:43:24.651840Z"
    }
   },
   "outputs": [
    {
     "data": {
      "application/vnd.jupyter.widget-view+json": {
       "model_id": "1b55192c0e794d70902c2f1164af90ff",
       "version_major": 2,
       "version_minor": 0
      },
      "text/plain": [
       "interactive(children=(FloatSlider(value=0.0, description='w0', max=3.0, min=-3.0), FloatSlider(value=1.0, desc…"
      ]
     },
     "metadata": {},
     "output_type": "display_data"
    },
    {
     "data": {
      "text/plain": [
       "<function __main__.plot_sigmoid1D(w0, w1)>"
      ]
     },
     "execution_count": 6,
     "metadata": {},
     "output_type": "execute_result"
    },
    {
     "data": {
      "image/png": "[encoded data removed]",
      "text/plain": [
       "<Figure size 640x480 with 1 Axes>"
      ]
     },
     "metadata": {},
     "output_type": "display_data"
    },
    {
     "data": {
      "image/png": "[encoded data removed]",
      "text/plain": [
       "<Figure size 640x480 with 1 Axes>"
      ]
     },
     "metadata": {},
     "output_type": "display_data"
    }
   ],
   "source": [
    "def plot_sigmoid1D(w0, w1):\n",
    "    x = np.linspace(-3, 3)\n",
    "    # y = sigmoid(w1 * x + w0)\n",
    "    y = 1 / (1 + np.exp(-(w1 * x + w0)))\n",
    "    plt.plot(x, y)\n",
    "    #     set limits\n",
    "    plt.ylim(-0.1, 1.1)\n",
    "    plt.xlim(-3.5, 3.5)\n",
    "    plt.grid(True)\n",
    "    \n",
    "    #     plot y = 0.5\n",
    "    plt.axhline(y=0.5, color='k', linestyle='--')\n",
    "    \n",
    "    #     plot x and y axes\n",
    "    plt.axhline(y=0, color='k')\n",
    "    plt.axvline(x=0, color='k')\n",
    "    \n",
    "    # plot decision boundary: w1 * x + w0 = 0, sigmoid = 0.5\n",
    "    d = -w0 / w1\n",
    "    plt.axvspan(d, 3.5, color='red', alpha=0.07)\n",
    "    plt.axvspan(-3.5, d, color='blue', alpha=0.07)\n",
    "\n",
    "    # axis names\n",
    "    plt.xlabel('x1')\n",
    "    plt.ylabel('sigmoid(wx)')\n",
    "    \n",
    "    plt.show()\n",
    "\n",
    "w1_widget = widgets.FloatSlider(value=1,\n",
    "                         min=-5.0,\n",
    "                         max=5.0,\n",
    "                         step=0.1)\n",
    "w0_widget = widgets.FloatSlider(value=0.0,\n",
    "                         min=-3,\n",
    "                         max=3.0,\n",
    "                         step=0.1)\n",
    "interact(plot_sigmoid1D, w1 = w1_widget, w0 = w0_widget)"
   ]
  },
  {
   "cell_type": "markdown",
   "id": "11ce39eb526f6b4b",
   "metadata": {},
   "source": [
    "## 2D sigmoid function"
   ]
  },
  {
   "cell_type": "code",
   "execution_count": 9,
   "id": "f829f5cdc62a0323",
   "metadata": {
    "ExecuteTime": {
     "end_time": "2023-11-02T18:43:24.803724Z",
     "start_time": "2023-11-02T18:43:24.741762Z"
    }
   },
   "outputs": [
    {
     "data": {
      "application/vnd.jupyter.widget-view+json": {
       "model_id": "5ca603772c7249d4b087dfeab89789b9",
       "version_major": 2,
       "version_minor": 0
      },
      "text/plain": [
       "interactive(children=(FloatSlider(value=0.0, description='w0', max=3.0, min=-3.0), FloatSlider(value=1.0, desc…"
      ]
     },
     "metadata": {},
     "output_type": "display_data"
    },
    {
     "data": {
      "text/plain": [
       "<function __main__.plot_sigmoid2D(w0, w1, w2)>"
      ]
     },
     "execution_count": 9,
     "metadata": {},
     "output_type": "execute_result"
    }
   ],
   "source": [
    "def plot_sigmoid2D(w0, w1, w2):\n",
    "    # make the plot 3d\n",
    "    fig = plt.figure()\n",
    "    ax = fig.add_subplot(111, projection='3d')\n",
    "    \n",
    "    x = np.linspace(-3.5, 3.5)\n",
    "    y = np.linspace(-3.5, 3.5)\n",
    "    X, Y = np.meshgrid(x, y)\n",
    "    z = 1 / (1 + np.exp(-(w1 * X + w2 * Y + w0)))\n",
    "    \n",
    "    ax.plot_surface(X, Y, z)\n",
    "    ax.set_zlim(-0.1, 1.1)\n",
    "    ax.set_xlim(-3.5, 3.5)\n",
    "    ax.set_ylim(-3.5, 3.5)\n",
    "    ax.grid(True)\n",
    "\n",
    "    \n",
    "    # plot all axes\n",
    "    ax.plot([0, 0], [0, 0], [-0.1, 1.1], color='k')\n",
    "    ax.plot([0, 0], [-3.5, 3.5], [0, 0], color='k')\n",
    "    ax.plot([-3.5, 3.5], [0, 0], [0, 0], color='k')\n",
    "    \n",
    "    # plot y = 0.5\n",
    "    ax.plot_surface(X, Y, 0.5 * np.ones(X.shape), alpha=0.2, color='k')\n",
    "    \n",
    "    # plot decision boundary: w1 * x + w2 * y + w0 = 0, sigmoid = 0.5\n",
    "    d1 = np.linspace(-3.5, 3.5)\n",
    "    # y = -w1 / w2 * x - w0 / w2 \n",
    "    d2 = -w0 / w2 - w1 / w2 * d1\n",
    "    ax.plot(d1, d2, 0 * np.ones(d1.shape), color='r')\n",
    "#     ax.plot(d1, d2, 0.5 * np.ones(d1.shape), color='r')\n",
    "    \n",
    "    # plot plane through the decision boundary that goes through the line d1, d2 over all z\n",
    "    Zs = np.linspace(-0.1, 1.1, 50)\n",
    "    for z in Zs:\n",
    "        ax.plot(d1, d2, z * np.ones(d1.shape), color='r', alpha=0.2)\n",
    "    \n",
    "    # plot axis names\n",
    "    ax.set_xlabel('x1')\n",
    "    ax.set_ylabel('x2')\n",
    "    ax.set_zlabel('sigmoid(wx)')\n",
    "    \n",
    "    plt.show()\n",
    "    \n",
    "w1_widget = widgets.FloatSlider(value=1,\n",
    "                         min=-5.0,\n",
    "                         max=5.0,\n",
    "                         step=0.1)\n",
    "\n",
    "w2_widget = widgets.FloatSlider(value=1,\n",
    "                            min=-5.0,\n",
    "                            max=5.0,\n",
    "                            step=0.1)\n",
    "\n",
    "w0_widget = widgets.FloatSlider(value=0.0,\n",
    "                            min=-3,\n",
    "                            max=3.0,\n",
    "                            step=0.1)\n",
    "\n",
    "interact(plot_sigmoid2D, w1 = w1_widget, w2 = w2_widget, w0 = w0_widget)\n"
   ]
  },
  {
   "cell_type": "code",
   "execution_count": null,
   "id": "e07a87d9e537238d",
   "metadata": {
    "ExecuteTime": {
     "end_time": "2023-11-02T18:43:24.803933Z",
     "start_time": "2023-11-02T18:43:24.743831Z"
    }
   },
   "outputs": [],
   "source": []
  },
  {
   "cell_type": "code",
   "execution_count": null,
   "id": "609d5674cac88fea",
   "metadata": {
    "ExecuteTime": {
     "end_time": "2023-11-02T18:43:24.804052Z",
     "start_time": "2023-11-02T18:43:24.748937Z"
    }
   },
   "outputs": [],
   "source": []
  }
 ],
 "metadata": {
  "kernelspec": {
   "display_name": "Python 3 (ipykernel)",
   "language": "python",
   "name": "python3"
  },
  "language_info": {
   "codemirror_mode": {
    "name": "ipython",
    "version": 3
   },
   "file_extension": ".py",
   "mimetype": "text/x-python",
   "name": "python",
   "nbconvert_exporter": "python",
   "pygments_lexer": "ipython3",
   "version": "3.10.9"
  }
 },
 "nbformat": 4,
 "nbformat_minor": 5
}
